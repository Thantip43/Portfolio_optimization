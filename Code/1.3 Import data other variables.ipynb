{
 "cells": [
  {
   "cell_type": "markdown",
   "id": "446a908a-5b96-42c2-a86e-710b9a351cb2",
   "metadata": {},
   "source": [
    "**Importing Index**"
   ]
  },
  {
   "cell_type": "code",
   "execution_count": 2,
   "id": "6a611310-3ad3-45ad-975f-c20842bfd5f4",
   "metadata": {},
   "outputs": [],
   "source": [
    "import yfinance as yf\n",
    "\n",
    "# Get the S&P 500 index \n",
    "sp500 = yf.Ticker('^GSPC')\n",
    "sp500_index = sp500.history(period='10y')\n",
    "\n",
    "# Get the SET index \n",
    "set_index = yf.Ticker('^SET.BK')\n",
    "set_index = set_index.history(period='10y')"
   ]
  },
  {
   "cell_type": "code",
   "execution_count": 3,
   "id": "827f0453-fced-4333-8e17-422a31b9b9c8",
   "metadata": {},
   "outputs": [],
   "source": [
    "sp500_index = sp500_index[['Close']]"
   ]
  },
  {
   "cell_type": "code",
   "execution_count": 4,
   "id": "0b94b236-1282-498e-ad0a-773114bc018a",
   "metadata": {},
   "outputs": [
    {
     "data": {
      "text/html": [
       "<div>\n",
       "<style scoped>\n",
       "    .dataframe tbody tr th:only-of-type {\n",
       "        vertical-align: middle;\n",
       "    }\n",
       "\n",
       "    .dataframe tbody tr th {\n",
       "        vertical-align: top;\n",
       "    }\n",
       "\n",
       "    .dataframe thead th {\n",
       "        text-align: right;\n",
       "    }\n",
       "</style>\n",
       "<table border=\"1\" class=\"dataframe\">\n",
       "  <thead>\n",
       "    <tr style=\"text-align: right;\">\n",
       "      <th></th>\n",
       "      <th>Close</th>\n",
       "    </tr>\n",
       "    <tr>\n",
       "      <th>Date</th>\n",
       "      <th></th>\n",
       "    </tr>\n",
       "  </thead>\n",
       "  <tbody>\n",
       "    <tr>\n",
       "      <th>2014-12-15 00:00:00-05:00</th>\n",
       "      <td>1989.630005</td>\n",
       "    </tr>\n",
       "    <tr>\n",
       "      <th>2014-12-16 00:00:00-05:00</th>\n",
       "      <td>1972.739990</td>\n",
       "    </tr>\n",
       "    <tr>\n",
       "      <th>2014-12-17 00:00:00-05:00</th>\n",
       "      <td>2012.890015</td>\n",
       "    </tr>\n",
       "    <tr>\n",
       "      <th>2014-12-18 00:00:00-05:00</th>\n",
       "      <td>2061.229980</td>\n",
       "    </tr>\n",
       "    <tr>\n",
       "      <th>2014-12-19 00:00:00-05:00</th>\n",
       "      <td>2070.649902</td>\n",
       "    </tr>\n",
       "    <tr>\n",
       "      <th>...</th>\n",
       "      <td>...</td>\n",
       "    </tr>\n",
       "    <tr>\n",
       "      <th>2024-12-09 00:00:00-05:00</th>\n",
       "      <td>6052.850098</td>\n",
       "    </tr>\n",
       "    <tr>\n",
       "      <th>2024-12-10 00:00:00-05:00</th>\n",
       "      <td>6034.910156</td>\n",
       "    </tr>\n",
       "    <tr>\n",
       "      <th>2024-12-11 00:00:00-05:00</th>\n",
       "      <td>6084.189941</td>\n",
       "    </tr>\n",
       "    <tr>\n",
       "      <th>2024-12-12 00:00:00-05:00</th>\n",
       "      <td>6051.250000</td>\n",
       "    </tr>\n",
       "    <tr>\n",
       "      <th>2024-12-13 00:00:00-05:00</th>\n",
       "      <td>6051.089844</td>\n",
       "    </tr>\n",
       "  </tbody>\n",
       "</table>\n",
       "<p>2517 rows × 1 columns</p>\n",
       "</div>"
      ],
      "text/plain": [
       "                                 Close\n",
       "Date                                  \n",
       "2014-12-15 00:00:00-05:00  1989.630005\n",
       "2014-12-16 00:00:00-05:00  1972.739990\n",
       "2014-12-17 00:00:00-05:00  2012.890015\n",
       "2014-12-18 00:00:00-05:00  2061.229980\n",
       "2014-12-19 00:00:00-05:00  2070.649902\n",
       "...                                ...\n",
       "2024-12-09 00:00:00-05:00  6052.850098\n",
       "2024-12-10 00:00:00-05:00  6034.910156\n",
       "2024-12-11 00:00:00-05:00  6084.189941\n",
       "2024-12-12 00:00:00-05:00  6051.250000\n",
       "2024-12-13 00:00:00-05:00  6051.089844\n",
       "\n",
       "[2517 rows x 1 columns]"
      ]
     },
     "execution_count": 4,
     "metadata": {},
     "output_type": "execute_result"
    }
   ],
   "source": [
    "sp500_index"
   ]
  },
  {
   "cell_type": "code",
   "execution_count": 5,
   "id": "db460960-28dc-4807-8329-91685ab97d7a",
   "metadata": {},
   "outputs": [],
   "source": [
    "set_index= set_index[['Close']]"
   ]
  },
  {
   "cell_type": "code",
   "execution_count": 6,
   "id": "07f8d791-3c23-472a-8b53-9e326500446a",
   "metadata": {},
   "outputs": [
    {
     "data": {
      "text/html": [
       "<div>\n",
       "<style scoped>\n",
       "    .dataframe tbody tr th:only-of-type {\n",
       "        vertical-align: middle;\n",
       "    }\n",
       "\n",
       "    .dataframe tbody tr th {\n",
       "        vertical-align: top;\n",
       "    }\n",
       "\n",
       "    .dataframe thead th {\n",
       "        text-align: right;\n",
       "    }\n",
       "</style>\n",
       "<table border=\"1\" class=\"dataframe\">\n",
       "  <thead>\n",
       "    <tr style=\"text-align: right;\">\n",
       "      <th></th>\n",
       "      <th>Close</th>\n",
       "    </tr>\n",
       "    <tr>\n",
       "      <th>Date</th>\n",
       "      <th></th>\n",
       "    </tr>\n",
       "  </thead>\n",
       "  <tbody>\n",
       "    <tr>\n",
       "      <th>2014-12-16 00:00:00+07:00</th>\n",
       "      <td>1461.739990</td>\n",
       "    </tr>\n",
       "    <tr>\n",
       "      <th>2014-12-17 00:00:00+07:00</th>\n",
       "      <td>1480.199951</td>\n",
       "    </tr>\n",
       "    <tr>\n",
       "      <th>2014-12-18 00:00:00+07:00</th>\n",
       "      <td>1516.790039</td>\n",
       "    </tr>\n",
       "    <tr>\n",
       "      <th>2014-12-19 00:00:00+07:00</th>\n",
       "      <td>1514.349976</td>\n",
       "    </tr>\n",
       "    <tr>\n",
       "      <th>2014-12-22 00:00:00+07:00</th>\n",
       "      <td>1536.829956</td>\n",
       "    </tr>\n",
       "    <tr>\n",
       "      <th>...</th>\n",
       "      <td>...</td>\n",
       "    </tr>\n",
       "    <tr>\n",
       "      <th>2024-12-09 00:00:00+07:00</th>\n",
       "      <td>1447.530029</td>\n",
       "    </tr>\n",
       "    <tr>\n",
       "      <th>2024-12-11 00:00:00+07:00</th>\n",
       "      <td>1443.050049</td>\n",
       "    </tr>\n",
       "    <tr>\n",
       "      <th>2024-12-12 00:00:00+07:00</th>\n",
       "      <td>1439.890015</td>\n",
       "    </tr>\n",
       "    <tr>\n",
       "      <th>2024-12-13 00:00:00+07:00</th>\n",
       "      <td>1431.670044</td>\n",
       "    </tr>\n",
       "    <tr>\n",
       "      <th>2024-12-16 00:00:00+07:00</th>\n",
       "      <td>1417.969971</td>\n",
       "    </tr>\n",
       "  </tbody>\n",
       "</table>\n",
       "<p>2426 rows × 1 columns</p>\n",
       "</div>"
      ],
      "text/plain": [
       "                                 Close\n",
       "Date                                  \n",
       "2014-12-16 00:00:00+07:00  1461.739990\n",
       "2014-12-17 00:00:00+07:00  1480.199951\n",
       "2014-12-18 00:00:00+07:00  1516.790039\n",
       "2014-12-19 00:00:00+07:00  1514.349976\n",
       "2014-12-22 00:00:00+07:00  1536.829956\n",
       "...                                ...\n",
       "2024-12-09 00:00:00+07:00  1447.530029\n",
       "2024-12-11 00:00:00+07:00  1443.050049\n",
       "2024-12-12 00:00:00+07:00  1439.890015\n",
       "2024-12-13 00:00:00+07:00  1431.670044\n",
       "2024-12-16 00:00:00+07:00  1417.969971\n",
       "\n",
       "[2426 rows x 1 columns]"
      ]
     },
     "execution_count": 6,
     "metadata": {},
     "output_type": "execute_result"
    }
   ],
   "source": [
    "set_index"
   ]
  },
  {
   "cell_type": "code",
   "execution_count": 7,
   "id": "70a9dc62-9ba9-4ea3-8407-5c9e35ac8b67",
   "metadata": {},
   "outputs": [],
   "source": [
    "# Save the data to a CSV file\n",
    "sp500_index.to_csv(\"../Data/sp500_index.csv\")\n",
    "set_index.to_csv(\"../Data/set_index.csv\")"
   ]
  },
  {
   "cell_type": "markdown",
   "id": "e68ca5e5-c945-4ba5-9a51-c0b3fa1970df",
   "metadata": {},
   "source": [
    "**Other variables**"
   ]
  },
  {
   "cell_type": "code",
   "execution_count": 9,
   "id": "fcbf1e9d-f3dd-4dcb-92f7-0879250d7a45",
   "metadata": {},
   "outputs": [],
   "source": [
    "# !pip install fredapi"
   ]
  },
  {
   "cell_type": "markdown",
   "id": "1cf8e01c-2faf-4b57-a9a0-1fc7724246fc",
   "metadata": {},
   "source": [
    "**GDP & Interest rate in the US**"
   ]
  },
  {
   "cell_type": "code",
   "execution_count": 19,
   "id": "f836b0e6-9afd-497c-a0a8-f8856654e2c3",
   "metadata": {},
   "outputs": [
    {
     "name": "stderr",
     "output_type": "stream",
     "text": [
      "/var/folders/7x/s9nb0bqj3xj0g6l2sm78vqcm0000gn/T/ipykernel_79641/3453807291.py:38: FutureWarning: DataFrame.fillna with 'method' is deprecated and will raise in a future version. Use obj.ffill() or obj.bfill() instead.\n",
      "  macro_data = macro_data.fillna(method='ffill')\n"
     ]
    }
   ],
   "source": [
    "from fredapi import Fred\n",
    "import pandas as pd\n",
    "import datetime\n",
    "\n",
    "# Initialize FRED API\n",
    "api_key = '7f8087edb563818ec33844104e7a60d7'\n",
    "fred = Fred(api_key=api_key)\n",
    "\n",
    "# Define the series codes \n",
    "interest_rate_code = 'FEDFUNDS'  \n",
    "gdp_code = 'GDP'  \n",
    "unemploy_code = 'UNRATE'\n",
    "inflation_code = 'CPIAUCSL'\n",
    "\n",
    "# Define the date range for the last 12 years\n",
    "end_date = datetime.datetime.today()\n",
    "start_date = end_date - datetime.timedelta(days=12*365)\n",
    "\n",
    "# get the data from FRED\n",
    "interest_rate = fred.get_series(interest_rate_code, start_date, end_date)\n",
    "gdp = fred.get_series(gdp_code, start_date, end_date)\n",
    "unemploy = fred.get_series(unemploy_code, start_date, end_date)\n",
    "inflation = fred.get_series(inflation_code, start_date, end_date)\n",
    "\n",
    "# Convert the series into DataFrames with 'Date' column\n",
    "interest_rate_df = pd.DataFrame({'Date': interest_rate.index, 'Interest_Rate': interest_rate.values})\n",
    "gdp_df = pd.DataFrame({'Date': gdp.index, 'GDP': gdp.values})\n",
    "unemploy_df = pd.DataFrame({'Date': unemploy.index, 'Unemployment': unemploy.values})\n",
    "inflation_df = pd.DataFrame({'Date': inflation.index, 'Inflation': inflation.values})\n",
    "\n",
    "# Merge the DataFrames \n",
    "macro_data = pd.merge(interest_rate_df, gdp_df, on='Date', how='outer')\n",
    "macro_data = pd.merge(merged_data, unemploy_df, on='Date', how='outer')\n",
    "macro_data = pd.merge(merged_data, inflation_df, on='Date', how='outer')\n",
    "macro_data.set_index('Date', inplace=True)\n",
    "\n",
    "# Fill missing values with the previous available value  by using  (forward fill)\n",
    "macro_data = macro_data.fillna(method='ffill')"
   ]
  },
  {
   "cell_type": "code",
   "execution_count": 25,
   "id": "42c36298-233b-4e49-bca0-3cc9dda36047",
   "metadata": {},
   "outputs": [],
   "source": [
    "macro_data = macro_data.drop(columns = {'Inflation_y'})"
   ]
  },
  {
   "cell_type": "code",
   "execution_count": 27,
   "id": "9be773f0-7dde-42df-b465-0568f66e7d88",
   "metadata": {},
   "outputs": [],
   "source": [
    "# Save the data to a CSV file\n",
    "macro_data.to_csv(\"../Data/macro_data.csv\")"
   ]
  },
  {
   "cell_type": "code",
   "execution_count": null,
   "id": "be18c687-1997-4cae-8cd2-91a5768ef589",
   "metadata": {},
   "outputs": [],
   "source": []
  }
 ],
 "metadata": {
  "kernelspec": {
   "display_name": "Python 3 (ipykernel)",
   "language": "python",
   "name": "python3"
  },
  "language_info": {
   "codemirror_mode": {
    "name": "ipython",
    "version": 3
   },
   "file_extension": ".py",
   "mimetype": "text/x-python",
   "name": "python",
   "nbconvert_exporter": "python",
   "pygments_lexer": "ipython3",
   "version": "3.12.4"
  }
 },
 "nbformat": 4,
 "nbformat_minor": 5
}

{
 "cells": [
  {
   "cell_type": "code",
   "execution_count": 1,
   "id": "0e7df8a5-92c2-464f-8ef4-f86f1bee842a",
   "metadata": {},
   "outputs": [],
   "source": [
    "import risk_based_portfolio as rbp"
   ]
  },
  {
   "cell_type": "code",
   "execution_count": 4,
   "id": "0ae584a4-e507-4636-b62f-8f24f758beec",
   "metadata": {},
   "outputs": [
    {
     "name": "stderr",
     "output_type": "stream",
     "text": [
      "[*********************100%***********************]  7 of 7 completed\n",
      "/opt/anaconda3/lib/python3.11/site-packages/pypfopt/efficient_frontier/efficient_frontier.py:441: UserWarning: The risk_free_rate provided to portfolio_performance is different to the one used by max_sharpe. Using the previous value.\n",
      "  warnings.warn(\n"
     ]
    },
    {
     "name": "stdout",
     "output_type": "stream",
     "text": [
      "\n",
      "LOW RISK PORTFOLIO\n",
      "--------------------------------------------------\n",
      "Portfolio Metrics:\n",
      "Expected Annual Return: 1.42%\n",
      "Annual Volatility: 6.67%\n",
      "Sharpe Ratio: -0.09\n",
      "\n",
      "Asset Allocation:\n",
      "AGG: 89.65%\n",
      "BRK-B: 6.47%\n",
      "GLD: 3.88%\n",
      "\n",
      "\n",
      "MEDIUM RISK PORTFOLIO\n",
      "--------------------------------------------------\n",
      "Portfolio Metrics:\n",
      "Expected Annual Return: 17.34%\n",
      "Annual Volatility: 15.18%\n",
      "Sharpe Ratio: 1.01\n",
      "\n",
      "Asset Allocation:\n",
      "AAPL: 23.19%\n",
      "BRK-B: 14.79%\n",
      "GLD: 52.26%\n",
      "GOOGL: 4.34%\n",
      "MSFT: 5.41%\n",
      "\n",
      "\n",
      "HIGH RISK PORTFOLIO\n",
      "--------------------------------------------------\n",
      "Portfolio Metrics:\n",
      "Expected Annual Return: 23.01%\n",
      "Annual Volatility: 22.77%\n",
      "Sharpe Ratio: 0.92\n",
      "\n",
      "Asset Allocation:\n",
      "AAPL: 56.35%\n",
      "GLD: 26.98%\n",
      "GOOGL: 8.66%\n",
      "MSFT: 8.01%\n",
      "\n"
     ]
    }
   ],
   "source": [
    "import yfinance as yf\n",
    "\n",
    "# Get sample data\n",
    "tickers = ['AAPL', 'GOOGL', 'MSFT', 'BRK-B', 'VTI', 'AGG', 'GLD']\n",
    "prices_df = yf.download(tickers, start=\"2020-01-01\")['Adj Close']\n",
    "\n",
    "# Initialize optimizer\n",
    "optimizer = rbp.RiskBasedPortfolioOptimizer(prices_df)\n",
    "\n",
    "# Generate portfolios\n",
    "portfolios = optimizer.generate_risk_based_portfolios()\n",
    "\n",
    "# Print formatted report\n",
    "print(rbp.format_portfolio_report(portfolios))\n",
    "\n",
    "# Generate efficient frontier points for plotting\n",
    "ef_points = optimizer.generate_efficient_frontier_points()"
   ]
  },
  {
   "cell_type": "code",
   "execution_count": null,
   "id": "f6f233c3-12b7-48d6-adf3-abcfb0faa6d5",
   "metadata": {},
   "outputs": [],
   "source": []
  }
 ],
 "metadata": {
  "kernelspec": {
   "display_name": "Python 3 (ipykernel)",
   "language": "python",
   "name": "python3"
  },
  "language_info": {
   "codemirror_mode": {
    "name": "ipython",
    "version": 3
   },
   "file_extension": ".py",
   "mimetype": "text/x-python",
   "name": "python",
   "nbconvert_exporter": "python",
   "pygments_lexer": "ipython3",
   "version": "3.11.7"
  }
 },
 "nbformat": 4,
 "nbformat_minor": 5
}

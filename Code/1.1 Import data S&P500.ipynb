{
 "cells": [
  {
   "cell_type": "markdown",
   "id": "734ccddb-9bac-4490-a108-377daf049783",
   "metadata": {},
   "source": [
    "**Importing S&P500 top 20 stocks**"
   ]
  },
  {
   "cell_type": "code",
   "execution_count": 2,
   "id": "477516b9-cd44-4b41-be0e-b4951deeb249",
   "metadata": {},
   "outputs": [],
   "source": [
    "import yfinance as yf\n",
    "import pandas as pd\n",
    "\n",
    "# Get all the tickers from s&p500\n",
    "def get_sp500_tickers():\n",
    "    link = \"https://en.wikipedia.org/wiki/List_of_S%26P_500_companies\"\n",
    "    sp500_table = pd.read_html(link, header=0)[0]\n",
    "    return sp500_table[['Symbol', 'Security', 'GICS Sector', 'GICS Sub-Industry']]\n",
    "sp500_data = get_sp500_tickers()"
   ]
  },
  {
   "cell_type": "code",
   "execution_count": 3,
   "id": "44c06de5-19ee-4e85-aefe-0bca536afb24",
   "metadata": {},
   "outputs": [
    {
     "data": {
      "text/html": [
       "<div>\n",
       "<style scoped>\n",
       "    .dataframe tbody tr th:only-of-type {\n",
       "        vertical-align: middle;\n",
       "    }\n",
       "\n",
       "    .dataframe tbody tr th {\n",
       "        vertical-align: top;\n",
       "    }\n",
       "\n",
       "    .dataframe thead th {\n",
       "        text-align: right;\n",
       "    }\n",
       "</style>\n",
       "<table border=\"1\" class=\"dataframe\">\n",
       "  <thead>\n",
       "    <tr style=\"text-align: right;\">\n",
       "      <th></th>\n",
       "      <th>Symbol</th>\n",
       "      <th>Security</th>\n",
       "      <th>GICS Sector</th>\n",
       "      <th>GICS Sub-Industry</th>\n",
       "    </tr>\n",
       "  </thead>\n",
       "  <tbody>\n",
       "    <tr>\n",
       "      <th>0</th>\n",
       "      <td>MMM</td>\n",
       "      <td>3M</td>\n",
       "      <td>Industrials</td>\n",
       "      <td>Industrial Conglomerates</td>\n",
       "    </tr>\n",
       "    <tr>\n",
       "      <th>1</th>\n",
       "      <td>AOS</td>\n",
       "      <td>A. O. Smith</td>\n",
       "      <td>Industrials</td>\n",
       "      <td>Building Products</td>\n",
       "    </tr>\n",
       "    <tr>\n",
       "      <th>2</th>\n",
       "      <td>ABT</td>\n",
       "      <td>Abbott Laboratories</td>\n",
       "      <td>Health Care</td>\n",
       "      <td>Health Care Equipment</td>\n",
       "    </tr>\n",
       "    <tr>\n",
       "      <th>3</th>\n",
       "      <td>ABBV</td>\n",
       "      <td>AbbVie</td>\n",
       "      <td>Health Care</td>\n",
       "      <td>Biotechnology</td>\n",
       "    </tr>\n",
       "    <tr>\n",
       "      <th>4</th>\n",
       "      <td>ACN</td>\n",
       "      <td>Accenture</td>\n",
       "      <td>Information Technology</td>\n",
       "      <td>IT Consulting &amp; Other Services</td>\n",
       "    </tr>\n",
       "    <tr>\n",
       "      <th>...</th>\n",
       "      <td>...</td>\n",
       "      <td>...</td>\n",
       "      <td>...</td>\n",
       "      <td>...</td>\n",
       "    </tr>\n",
       "    <tr>\n",
       "      <th>498</th>\n",
       "      <td>XYL</td>\n",
       "      <td>Xylem Inc.</td>\n",
       "      <td>Industrials</td>\n",
       "      <td>Industrial Machinery &amp; Supplies &amp; Components</td>\n",
       "    </tr>\n",
       "    <tr>\n",
       "      <th>499</th>\n",
       "      <td>YUM</td>\n",
       "      <td>Yum! Brands</td>\n",
       "      <td>Consumer Discretionary</td>\n",
       "      <td>Restaurants</td>\n",
       "    </tr>\n",
       "    <tr>\n",
       "      <th>500</th>\n",
       "      <td>ZBRA</td>\n",
       "      <td>Zebra Technologies</td>\n",
       "      <td>Information Technology</td>\n",
       "      <td>Electronic Equipment &amp; Instruments</td>\n",
       "    </tr>\n",
       "    <tr>\n",
       "      <th>501</th>\n",
       "      <td>ZBH</td>\n",
       "      <td>Zimmer Biomet</td>\n",
       "      <td>Health Care</td>\n",
       "      <td>Health Care Equipment</td>\n",
       "    </tr>\n",
       "    <tr>\n",
       "      <th>502</th>\n",
       "      <td>ZTS</td>\n",
       "      <td>Zoetis</td>\n",
       "      <td>Health Care</td>\n",
       "      <td>Pharmaceuticals</td>\n",
       "    </tr>\n",
       "  </tbody>\n",
       "</table>\n",
       "<p>503 rows × 4 columns</p>\n",
       "</div>"
      ],
      "text/plain": [
       "    Symbol             Security             GICS Sector  \\\n",
       "0      MMM                   3M             Industrials   \n",
       "1      AOS          A. O. Smith             Industrials   \n",
       "2      ABT  Abbott Laboratories             Health Care   \n",
       "3     ABBV               AbbVie             Health Care   \n",
       "4      ACN            Accenture  Information Technology   \n",
       "..     ...                  ...                     ...   \n",
       "498    XYL           Xylem Inc.             Industrials   \n",
       "499    YUM          Yum! Brands  Consumer Discretionary   \n",
       "500   ZBRA   Zebra Technologies  Information Technology   \n",
       "501    ZBH        Zimmer Biomet             Health Care   \n",
       "502    ZTS               Zoetis             Health Care   \n",
       "\n",
       "                                GICS Sub-Industry  \n",
       "0                        Industrial Conglomerates  \n",
       "1                               Building Products  \n",
       "2                           Health Care Equipment  \n",
       "3                                   Biotechnology  \n",
       "4                  IT Consulting & Other Services  \n",
       "..                                            ...  \n",
       "498  Industrial Machinery & Supplies & Components  \n",
       "499                                   Restaurants  \n",
       "500            Electronic Equipment & Instruments  \n",
       "501                         Health Care Equipment  \n",
       "502                               Pharmaceuticals  \n",
       "\n",
       "[503 rows x 4 columns]"
      ]
     },
     "execution_count": 3,
     "metadata": {},
     "output_type": "execute_result"
    }
   ],
   "source": [
    "sp500_data"
   ]
  },
  {
   "cell_type": "code",
   "execution_count": null,
   "id": "56235f37-0e4d-4cfa-8705-ceaa330be704",
   "metadata": {},
   "outputs": [],
   "source": [
    "# find market cap from yfinance\n",
    "def get_market_cap(ticker):\n",
    "        stock = yf.Ticker(ticker)\n",
    "        return stock.info.get('marketCap', None)  # Market cap in USD\n",
    "sp500_data['MarketCap'] = sp500_data['Symbol'].apply(get_market_cap)\n",
    "\n",
    "# select top 20\n",
    "top20_stocks = sp500_data.sort_values(by='MarketCap', ascending=False).head(20)"
   ]
  },
  {
   "cell_type": "code",
   "execution_count": null,
   "id": "5bf56227-4f45-4ca9-904b-605f9f9c0bdf",
   "metadata": {},
   "outputs": [],
   "source": [
    "top20_stocks"
   ]
  },
  {
   "cell_type": "code",
   "execution_count": null,
   "id": "f70911ea-6082-4e15-9f26-d634163aba43",
   "metadata": {},
   "outputs": [],
   "source": [
    "# function to get historical stock prices\n",
    "def download_stock_data(tickers, start_date, end_date):\n",
    "    return yf.download(tickers, start=start_date, end=end_date, progress=False)\n"
   ]
  },
  {
   "cell_type": "code",
   "execution_count": null,
   "id": "bf4d56a6-b868-4676-9bab-9be152ac4bbd",
   "metadata": {},
   "outputs": [],
   "source": [
    "# Combine the top 20 tickers\n",
    "data = download_stock_data(top20_stocks['Symbol'].tolist(), start_date=\"2014-01-01\", end_date=\"2024-12-12\")\n",
    "\n",
    "# Save the data to a CSV file\n",
    "data.to_csv(\".top20_sp500_prices.csv\");"
   ]
  },
  {
   "cell_type": "code",
   "execution_count": null,
   "id": "d42e62aa-1322-499c-8e8b-1852a06f5214",
   "metadata": {},
   "outputs": [],
   "source": [
    "data"
   ]
  }
 ],
 "metadata": {
  "kernelspec": {
   "display_name": "Python 3 (ipykernel)",
   "language": "python",
   "name": "python3"
  },
  "language_info": {
   "codemirror_mode": {
    "name": "ipython",
    "version": 3
   },
   "file_extension": ".py",
   "mimetype": "text/x-python",
   "name": "python",
   "nbconvert_exporter": "python",
   "pygments_lexer": "ipython3",
   "version": "3.12.4"
  }
 },
 "nbformat": 4,
 "nbformat_minor": 5
}
